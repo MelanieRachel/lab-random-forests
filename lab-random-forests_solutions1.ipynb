{
 "cells": [
  {
   "cell_type": "markdown",
   "id": "d4dd251a",
   "metadata": {},
   "source": [
    "## Lab | Random Forests"
   ]
  },
  {
   "cell_type": "markdown",
   "id": "6cb03aea",
   "metadata": {},
   "source": [
    "For this lab, you will be using the CSV files provided in the files_for_lab folder."
   ]
  },
  {
   "cell_type": "markdown",
   "id": "6f157034",
   "metadata": {},
   "source": [
    "Instructions:"
   ]
  },
  {
   "cell_type": "markdown",
   "id": "46b7ebe0",
   "metadata": {},
   "source": [
    "**Apply the Random Forest algorithm to predict the TARGET_B.** \n",
    "- Please note that this column suffers from **class imbalance**. \n",
    "- Fix the class imbalance using **upsampling**.\n",
    "\n",
    "**Discuss the model predictions and it's impact in the bussiness scenario.** \n",
    "- Is the cost of a **false positive equals to the cost of the false negative**? \n",
    "- How much the money the company will not earn because of missclassifications made by the model?\n",
    "\n",
    "**Sklearn classification models are trained to maximize the accuracy.** \n",
    "- However, another error metric will be more relevant here. Which one? \n",
    "- Please checkout make_scorer alongside with GridSearchCV in order to **train the model \n",
    "to maximize the error metric** of interest in this case."
   ]
  },
  {
   "cell_type": "markdown",
   "id": "6d996298",
   "metadata": {},
   "source": [
    "* TARGET_B Target Variable: Binary Indicator for Response to 97NK Mailing\n",
    "* TARGET_D Target Variable: Donation Amount (in \\$) associated with the Response to 97NK Mailing"
   ]
  },
  {
   "cell_type": "code",
   "execution_count": 1,
   "id": "e4dd03e2",
   "metadata": {},
   "outputs": [],
   "source": [
    "# Load libraries\n",
    "\n",
    "import pandas as pd\n",
    "import numpy as np"
   ]
  },
  {
   "cell_type": "code",
   "execution_count": 2,
   "id": "e02c600a",
   "metadata": {},
   "outputs": [],
   "source": [
    "# Reading data\n",
    "categorical = pd.read_csv('../../Afternoon/lab-random-forests/files_for_lab/categorical.csv')\n",
    "numerical = pd.read_csv('../../Afternoon/lab-random-forests/files_for_lab/numerical.csv')\n",
    "targets = pd.read_csv('../../Afternoon/lab-random-forests/files_for_lab/target.csv')"
   ]
  },
  {
   "cell_type": "code",
   "execution_count": null,
   "id": "81309631",
   "metadata": {},
   "outputs": [],
   "source": [
    "#categorical"
   ]
  },
  {
   "cell_type": "code",
   "execution_count": 13,
   "id": "34a38758",
   "metadata": {},
   "outputs": [
    {
     "data": {
      "text/html": [
       "<div>\n",
       "<style scoped>\n",
       "    .dataframe tbody tr th:only-of-type {\n",
       "        vertical-align: middle;\n",
       "    }\n",
       "\n",
       "    .dataframe tbody tr th {\n",
       "        vertical-align: top;\n",
       "    }\n",
       "\n",
       "    .dataframe thead th {\n",
       "        text-align: right;\n",
       "    }\n",
       "</style>\n",
       "<table border=\"1\" class=\"dataframe\">\n",
       "  <thead>\n",
       "    <tr style=\"text-align: right;\">\n",
       "      <th></th>\n",
       "      <th>TCODE</th>\n",
       "      <th>AGE</th>\n",
       "      <th>INCOME</th>\n",
       "      <th>WEALTH1</th>\n",
       "      <th>HIT</th>\n",
       "      <th>MALEMILI</th>\n",
       "      <th>MALEVET</th>\n",
       "      <th>VIETVETS</th>\n",
       "      <th>WWIIVETS</th>\n",
       "      <th>LOCALGOV</th>\n",
       "      <th>...</th>\n",
       "      <th>CARDGIFT</th>\n",
       "      <th>MINRAMNT</th>\n",
       "      <th>MAXRAMNT</th>\n",
       "      <th>LASTGIFT</th>\n",
       "      <th>TIMELAG</th>\n",
       "      <th>AVGGIFT</th>\n",
       "      <th>CONTROLN</th>\n",
       "      <th>HPHONE_D</th>\n",
       "      <th>RFA_2F</th>\n",
       "      <th>CLUSTER2</th>\n",
       "    </tr>\n",
       "  </thead>\n",
       "  <tbody>\n",
       "    <tr>\n",
       "      <th>0</th>\n",
       "      <td>0</td>\n",
       "      <td>60.000000</td>\n",
       "      <td>5</td>\n",
       "      <td>9</td>\n",
       "      <td>0</td>\n",
       "      <td>0</td>\n",
       "      <td>39</td>\n",
       "      <td>34</td>\n",
       "      <td>18</td>\n",
       "      <td>10</td>\n",
       "      <td>...</td>\n",
       "      <td>14</td>\n",
       "      <td>5.0</td>\n",
       "      <td>12.0</td>\n",
       "      <td>10.0</td>\n",
       "      <td>4</td>\n",
       "      <td>7.741935</td>\n",
       "      <td>95515</td>\n",
       "      <td>0</td>\n",
       "      <td>4</td>\n",
       "      <td>39</td>\n",
       "    </tr>\n",
       "    <tr>\n",
       "      <th>1</th>\n",
       "      <td>1</td>\n",
       "      <td>46.000000</td>\n",
       "      <td>6</td>\n",
       "      <td>9</td>\n",
       "      <td>16</td>\n",
       "      <td>0</td>\n",
       "      <td>15</td>\n",
       "      <td>55</td>\n",
       "      <td>11</td>\n",
       "      <td>6</td>\n",
       "      <td>...</td>\n",
       "      <td>1</td>\n",
       "      <td>10.0</td>\n",
       "      <td>25.0</td>\n",
       "      <td>25.0</td>\n",
       "      <td>18</td>\n",
       "      <td>15.666667</td>\n",
       "      <td>148535</td>\n",
       "      <td>0</td>\n",
       "      <td>2</td>\n",
       "      <td>1</td>\n",
       "    </tr>\n",
       "    <tr>\n",
       "      <th>2</th>\n",
       "      <td>1</td>\n",
       "      <td>61.611649</td>\n",
       "      <td>3</td>\n",
       "      <td>1</td>\n",
       "      <td>2</td>\n",
       "      <td>0</td>\n",
       "      <td>20</td>\n",
       "      <td>29</td>\n",
       "      <td>33</td>\n",
       "      <td>6</td>\n",
       "      <td>...</td>\n",
       "      <td>14</td>\n",
       "      <td>2.0</td>\n",
       "      <td>16.0</td>\n",
       "      <td>5.0</td>\n",
       "      <td>12</td>\n",
       "      <td>7.481481</td>\n",
       "      <td>15078</td>\n",
       "      <td>1</td>\n",
       "      <td>4</td>\n",
       "      <td>60</td>\n",
       "    </tr>\n",
       "    <tr>\n",
       "      <th>3</th>\n",
       "      <td>0</td>\n",
       "      <td>70.000000</td>\n",
       "      <td>1</td>\n",
       "      <td>4</td>\n",
       "      <td>2</td>\n",
       "      <td>0</td>\n",
       "      <td>23</td>\n",
       "      <td>14</td>\n",
       "      <td>31</td>\n",
       "      <td>3</td>\n",
       "      <td>...</td>\n",
       "      <td>7</td>\n",
       "      <td>2.0</td>\n",
       "      <td>11.0</td>\n",
       "      <td>10.0</td>\n",
       "      <td>9</td>\n",
       "      <td>6.812500</td>\n",
       "      <td>172556</td>\n",
       "      <td>1</td>\n",
       "      <td>4</td>\n",
       "      <td>41</td>\n",
       "    </tr>\n",
       "    <tr>\n",
       "      <th>4</th>\n",
       "      <td>0</td>\n",
       "      <td>78.000000</td>\n",
       "      <td>3</td>\n",
       "      <td>2</td>\n",
       "      <td>60</td>\n",
       "      <td>1</td>\n",
       "      <td>28</td>\n",
       "      <td>9</td>\n",
       "      <td>53</td>\n",
       "      <td>26</td>\n",
       "      <td>...</td>\n",
       "      <td>8</td>\n",
       "      <td>3.0</td>\n",
       "      <td>15.0</td>\n",
       "      <td>15.0</td>\n",
       "      <td>14</td>\n",
       "      <td>6.864865</td>\n",
       "      <td>7112</td>\n",
       "      <td>1</td>\n",
       "      <td>2</td>\n",
       "      <td>26</td>\n",
       "    </tr>\n",
       "    <tr>\n",
       "      <th>...</th>\n",
       "      <td>...</td>\n",
       "      <td>...</td>\n",
       "      <td>...</td>\n",
       "      <td>...</td>\n",
       "      <td>...</td>\n",
       "      <td>...</td>\n",
       "      <td>...</td>\n",
       "      <td>...</td>\n",
       "      <td>...</td>\n",
       "      <td>...</td>\n",
       "      <td>...</td>\n",
       "      <td>...</td>\n",
       "      <td>...</td>\n",
       "      <td>...</td>\n",
       "      <td>...</td>\n",
       "      <td>...</td>\n",
       "      <td>...</td>\n",
       "      <td>...</td>\n",
       "      <td>...</td>\n",
       "      <td>...</td>\n",
       "      <td>...</td>\n",
       "    </tr>\n",
       "    <tr>\n",
       "      <th>95407</th>\n",
       "      <td>1</td>\n",
       "      <td>61.611649</td>\n",
       "      <td>5</td>\n",
       "      <td>9</td>\n",
       "      <td>0</td>\n",
       "      <td>14</td>\n",
       "      <td>36</td>\n",
       "      <td>47</td>\n",
       "      <td>11</td>\n",
       "      <td>7</td>\n",
       "      <td>...</td>\n",
       "      <td>0</td>\n",
       "      <td>25.0</td>\n",
       "      <td>25.0</td>\n",
       "      <td>25.0</td>\n",
       "      <td>9</td>\n",
       "      <td>25.000000</td>\n",
       "      <td>184568</td>\n",
       "      <td>0</td>\n",
       "      <td>1</td>\n",
       "      <td>12</td>\n",
       "    </tr>\n",
       "    <tr>\n",
       "      <th>95408</th>\n",
       "      <td>1</td>\n",
       "      <td>48.000000</td>\n",
       "      <td>7</td>\n",
       "      <td>9</td>\n",
       "      <td>1</td>\n",
       "      <td>0</td>\n",
       "      <td>31</td>\n",
       "      <td>43</td>\n",
       "      <td>19</td>\n",
       "      <td>4</td>\n",
       "      <td>...</td>\n",
       "      <td>0</td>\n",
       "      <td>20.0</td>\n",
       "      <td>20.0</td>\n",
       "      <td>20.0</td>\n",
       "      <td>9</td>\n",
       "      <td>20.000000</td>\n",
       "      <td>122706</td>\n",
       "      <td>1</td>\n",
       "      <td>1</td>\n",
       "      <td>2</td>\n",
       "    </tr>\n",
       "    <tr>\n",
       "      <th>95409</th>\n",
       "      <td>1</td>\n",
       "      <td>60.000000</td>\n",
       "      <td>5</td>\n",
       "      <td>9</td>\n",
       "      <td>0</td>\n",
       "      <td>0</td>\n",
       "      <td>18</td>\n",
       "      <td>46</td>\n",
       "      <td>20</td>\n",
       "      <td>7</td>\n",
       "      <td>...</td>\n",
       "      <td>4</td>\n",
       "      <td>3.0</td>\n",
       "      <td>10.0</td>\n",
       "      <td>10.0</td>\n",
       "      <td>3</td>\n",
       "      <td>8.285714</td>\n",
       "      <td>189641</td>\n",
       "      <td>1</td>\n",
       "      <td>3</td>\n",
       "      <td>34</td>\n",
       "    </tr>\n",
       "    <tr>\n",
       "      <th>95410</th>\n",
       "      <td>0</td>\n",
       "      <td>58.000000</td>\n",
       "      <td>7</td>\n",
       "      <td>9</td>\n",
       "      <td>0</td>\n",
       "      <td>0</td>\n",
       "      <td>28</td>\n",
       "      <td>35</td>\n",
       "      <td>20</td>\n",
       "      <td>9</td>\n",
       "      <td>...</td>\n",
       "      <td>18</td>\n",
       "      <td>5.0</td>\n",
       "      <td>21.0</td>\n",
       "      <td>18.0</td>\n",
       "      <td>4</td>\n",
       "      <td>12.146341</td>\n",
       "      <td>4693</td>\n",
       "      <td>1</td>\n",
       "      <td>4</td>\n",
       "      <td>11</td>\n",
       "    </tr>\n",
       "    <tr>\n",
       "      <th>95411</th>\n",
       "      <td>2</td>\n",
       "      <td>80.000000</td>\n",
       "      <td>5</td>\n",
       "      <td>8</td>\n",
       "      <td>3</td>\n",
       "      <td>1</td>\n",
       "      <td>33</td>\n",
       "      <td>22</td>\n",
       "      <td>27</td>\n",
       "      <td>8</td>\n",
       "      <td>...</td>\n",
       "      <td>11</td>\n",
       "      <td>10.0</td>\n",
       "      <td>201.0</td>\n",
       "      <td>100.0</td>\n",
       "      <td>6</td>\n",
       "      <td>96.794872</td>\n",
       "      <td>185114</td>\n",
       "      <td>1</td>\n",
       "      <td>1</td>\n",
       "      <td>12</td>\n",
       "    </tr>\n",
       "  </tbody>\n",
       "</table>\n",
       "<p>95412 rows × 315 columns</p>\n",
       "</div>"
      ],
      "text/plain": [
       "       TCODE        AGE  INCOME  WEALTH1  HIT  MALEMILI  MALEVET  VIETVETS  \\\n",
       "0          0  60.000000       5        9    0         0       39        34   \n",
       "1          1  46.000000       6        9   16         0       15        55   \n",
       "2          1  61.611649       3        1    2         0       20        29   \n",
       "3          0  70.000000       1        4    2         0       23        14   \n",
       "4          0  78.000000       3        2   60         1       28         9   \n",
       "...      ...        ...     ...      ...  ...       ...      ...       ...   \n",
       "95407      1  61.611649       5        9    0        14       36        47   \n",
       "95408      1  48.000000       7        9    1         0       31        43   \n",
       "95409      1  60.000000       5        9    0         0       18        46   \n",
       "95410      0  58.000000       7        9    0         0       28        35   \n",
       "95411      2  80.000000       5        8    3         1       33        22   \n",
       "\n",
       "       WWIIVETS  LOCALGOV  ...  CARDGIFT  MINRAMNT  MAXRAMNT  LASTGIFT  \\\n",
       "0            18        10  ...        14       5.0      12.0      10.0   \n",
       "1            11         6  ...         1      10.0      25.0      25.0   \n",
       "2            33         6  ...        14       2.0      16.0       5.0   \n",
       "3            31         3  ...         7       2.0      11.0      10.0   \n",
       "4            53        26  ...         8       3.0      15.0      15.0   \n",
       "...         ...       ...  ...       ...       ...       ...       ...   \n",
       "95407        11         7  ...         0      25.0      25.0      25.0   \n",
       "95408        19         4  ...         0      20.0      20.0      20.0   \n",
       "95409        20         7  ...         4       3.0      10.0      10.0   \n",
       "95410        20         9  ...        18       5.0      21.0      18.0   \n",
       "95411        27         8  ...        11      10.0     201.0     100.0   \n",
       "\n",
       "       TIMELAG    AVGGIFT  CONTROLN  HPHONE_D  RFA_2F  CLUSTER2  \n",
       "0            4   7.741935     95515         0       4        39  \n",
       "1           18  15.666667    148535         0       2         1  \n",
       "2           12   7.481481     15078         1       4        60  \n",
       "3            9   6.812500    172556         1       4        41  \n",
       "4           14   6.864865      7112         1       2        26  \n",
       "...        ...        ...       ...       ...     ...       ...  \n",
       "95407        9  25.000000    184568         0       1        12  \n",
       "95408        9  20.000000    122706         1       1         2  \n",
       "95409        3   8.285714    189641         1       3        34  \n",
       "95410        4  12.146341      4693         1       4        11  \n",
       "95411        6  96.794872    185114         1       1        12  \n",
       "\n",
       "[95412 rows x 315 columns]"
      ]
     },
     "execution_count": 13,
     "metadata": {},
     "output_type": "execute_result"
    }
   ],
   "source": [
    "# Do I need columns from numerical? #AVGGIFT?\n",
    "numerical"
   ]
  },
  {
   "cell_type": "code",
   "execution_count": 3,
   "id": "5785f604",
   "metadata": {},
   "outputs": [
    {
     "data": {
      "text/html": [
       "<div>\n",
       "<style scoped>\n",
       "    .dataframe tbody tr th:only-of-type {\n",
       "        vertical-align: middle;\n",
       "    }\n",
       "\n",
       "    .dataframe tbody tr th {\n",
       "        vertical-align: top;\n",
       "    }\n",
       "\n",
       "    .dataframe thead th {\n",
       "        text-align: right;\n",
       "    }\n",
       "</style>\n",
       "<table border=\"1\" class=\"dataframe\">\n",
       "  <thead>\n",
       "    <tr style=\"text-align: right;\">\n",
       "      <th></th>\n",
       "      <th>TARGET_B</th>\n",
       "      <th>TARGET_D</th>\n",
       "    </tr>\n",
       "  </thead>\n",
       "  <tbody>\n",
       "    <tr>\n",
       "      <th>0</th>\n",
       "      <td>0</td>\n",
       "      <td>0.0</td>\n",
       "    </tr>\n",
       "    <tr>\n",
       "      <th>1</th>\n",
       "      <td>0</td>\n",
       "      <td>0.0</td>\n",
       "    </tr>\n",
       "    <tr>\n",
       "      <th>2</th>\n",
       "      <td>0</td>\n",
       "      <td>0.0</td>\n",
       "    </tr>\n",
       "    <tr>\n",
       "      <th>3</th>\n",
       "      <td>0</td>\n",
       "      <td>0.0</td>\n",
       "    </tr>\n",
       "    <tr>\n",
       "      <th>4</th>\n",
       "      <td>0</td>\n",
       "      <td>0.0</td>\n",
       "    </tr>\n",
       "    <tr>\n",
       "      <th>...</th>\n",
       "      <td>...</td>\n",
       "      <td>...</td>\n",
       "    </tr>\n",
       "    <tr>\n",
       "      <th>95407</th>\n",
       "      <td>0</td>\n",
       "      <td>0.0</td>\n",
       "    </tr>\n",
       "    <tr>\n",
       "      <th>95408</th>\n",
       "      <td>0</td>\n",
       "      <td>0.0</td>\n",
       "    </tr>\n",
       "    <tr>\n",
       "      <th>95409</th>\n",
       "      <td>0</td>\n",
       "      <td>0.0</td>\n",
       "    </tr>\n",
       "    <tr>\n",
       "      <th>95410</th>\n",
       "      <td>1</td>\n",
       "      <td>18.0</td>\n",
       "    </tr>\n",
       "    <tr>\n",
       "      <th>95411</th>\n",
       "      <td>0</td>\n",
       "      <td>0.0</td>\n",
       "    </tr>\n",
       "  </tbody>\n",
       "</table>\n",
       "<p>95412 rows × 2 columns</p>\n",
       "</div>"
      ],
      "text/plain": [
       "       TARGET_B  TARGET_D\n",
       "0             0       0.0\n",
       "1             0       0.0\n",
       "2             0       0.0\n",
       "3             0       0.0\n",
       "4             0       0.0\n",
       "...         ...       ...\n",
       "95407         0       0.0\n",
       "95408         0       0.0\n",
       "95409         0       0.0\n",
       "95410         1      18.0\n",
       "95411         0       0.0\n",
       "\n",
       "[95412 rows x 2 columns]"
      ]
     },
     "execution_count": 3,
     "metadata": {},
     "output_type": "execute_result"
    }
   ],
   "source": [
    "targets"
   ]
  },
  {
   "cell_type": "code",
   "execution_count": null,
   "id": "ff201bc2",
   "metadata": {},
   "outputs": [],
   "source": [
    "# Detect class imbalance"
   ]
  },
  {
   "cell_type": "code",
   "execution_count": 4,
   "id": "bb8dcd51",
   "metadata": {},
   "outputs": [],
   "source": [
    "# Import libraries\n",
    "import matplotlib.pyplot as plt\n",
    "import seaborn as sns"
   ]
  },
  {
   "cell_type": "code",
   "execution_count": null,
   "id": "78b81655",
   "metadata": {},
   "outputs": [],
   "source": [
    "# Is dropping other column Target_D necessary?"
   ]
  },
  {
   "cell_type": "code",
   "execution_count": 5,
   "id": "d5f9542c",
   "metadata": {},
   "outputs": [
    {
     "data": {
      "text/plain": [
       "(95412, 1)"
      ]
     },
     "execution_count": 5,
     "metadata": {},
     "output_type": "execute_result"
    }
   ],
   "source": [
    "columns_to_drop = ['TARGET_D']\n",
    "targets = targets.drop(columns=columns_to_drop)\n",
    "targets.shape"
   ]
  },
  {
   "cell_type": "code",
   "execution_count": 6,
   "id": "50b20c84",
   "metadata": {},
   "outputs": [
    {
     "data": {
      "text/html": [
       "<div>\n",
       "<style scoped>\n",
       "    .dataframe tbody tr th:only-of-type {\n",
       "        vertical-align: middle;\n",
       "    }\n",
       "\n",
       "    .dataframe tbody tr th {\n",
       "        vertical-align: top;\n",
       "    }\n",
       "\n",
       "    .dataframe thead th {\n",
       "        text-align: right;\n",
       "    }\n",
       "</style>\n",
       "<table border=\"1\" class=\"dataframe\">\n",
       "  <thead>\n",
       "    <tr style=\"text-align: right;\">\n",
       "      <th></th>\n",
       "      <th>TARGET_B</th>\n",
       "    </tr>\n",
       "  </thead>\n",
       "  <tbody>\n",
       "    <tr>\n",
       "      <th>0</th>\n",
       "      <td>0</td>\n",
       "    </tr>\n",
       "    <tr>\n",
       "      <th>1</th>\n",
       "      <td>0</td>\n",
       "    </tr>\n",
       "    <tr>\n",
       "      <th>2</th>\n",
       "      <td>0</td>\n",
       "    </tr>\n",
       "    <tr>\n",
       "      <th>3</th>\n",
       "      <td>0</td>\n",
       "    </tr>\n",
       "    <tr>\n",
       "      <th>4</th>\n",
       "      <td>0</td>\n",
       "    </tr>\n",
       "    <tr>\n",
       "      <th>...</th>\n",
       "      <td>...</td>\n",
       "    </tr>\n",
       "    <tr>\n",
       "      <th>95407</th>\n",
       "      <td>0</td>\n",
       "    </tr>\n",
       "    <tr>\n",
       "      <th>95408</th>\n",
       "      <td>0</td>\n",
       "    </tr>\n",
       "    <tr>\n",
       "      <th>95409</th>\n",
       "      <td>0</td>\n",
       "    </tr>\n",
       "    <tr>\n",
       "      <th>95410</th>\n",
       "      <td>1</td>\n",
       "    </tr>\n",
       "    <tr>\n",
       "      <th>95411</th>\n",
       "      <td>0</td>\n",
       "    </tr>\n",
       "  </tbody>\n",
       "</table>\n",
       "<p>95412 rows × 1 columns</p>\n",
       "</div>"
      ],
      "text/plain": [
       "       TARGET_B\n",
       "0             0\n",
       "1             0\n",
       "2             0\n",
       "3             0\n",
       "4             0\n",
       "...         ...\n",
       "95407         0\n",
       "95408         0\n",
       "95409         0\n",
       "95410         1\n",
       "95411         0\n",
       "\n",
       "[95412 rows x 1 columns]"
      ]
     },
     "execution_count": 6,
     "metadata": {},
     "output_type": "execute_result"
    }
   ],
   "source": [
    "targets"
   ]
  },
  {
   "cell_type": "code",
   "execution_count": null,
   "id": "e4b84b66",
   "metadata": {},
   "outputs": [],
   "source": [
    "# How to get column for Random Forest\n",
    "# Define feature columns (X) and the target column (y)\n",
    "X = df.drop('TARGET_B', axis=1)  # Features (all columns except the target column)\n",
    "y = df['TARGET_B']  # Target column you want to predict\n",
    "\n",
    "num_columns = df.shape[1] \n",
    "print(f\"Number of columns after dropping: {num_columns}\")\n"
   ]
  },
  {
   "cell_type": "code",
   "execution_count": 7,
   "id": "9d8f3ffb",
   "metadata": {},
   "outputs": [
    {
     "data": {
      "image/png": "[encoded data removed]",
      "text/plain": [
       "<Figure size 640x480 with 1 Axes>"
      ]
     },
     "metadata": {},
     "output_type": "display_data"
    }
   ],
   "source": [
    "# Check 'TARGET_B' for class imbalance\n",
    "\n",
    "df = pd.DataFrame(targets)\n",
    "\n",
    "sns.countplot(data=df, x='TARGET_B')\n",
    "plt.title('Class Distribution')\n",
    "plt.show()"
   ]
  },
  {
   "cell_type": "code",
   "execution_count": null,
   "id": "185212ef",
   "metadata": {},
   "outputs": [],
   "source": [
    "#Identify the Imbalanced Dataset\n",
    "The dataset is imbalanced: the distribution of classes is significantly skewed."
   ]
  },
  {
   "cell_type": "code",
   "execution_count": 16,
   "id": "ae1570f8",
   "metadata": {},
   "outputs": [],
   "source": [
    "# Import Necessary Libraries:\n",
    "from sklearn.utils import resample\n",
    "from sklearn.model_selection import train_test_split\n",
    "from sklearn.datasets import make_classification\n"
   ]
  },
  {
   "cell_type": "code",
   "execution_count": 19,
   "id": "b10ac947",
   "metadata": {},
   "outputs": [],
   "source": [
    "X, y = make_classification(n_samples=1000, n_features=20, weights=[0.9, 0.1], random_state=42)\n",
    "\n",
    "y_series = pd.Series(y)\n",
    "class_distribution = y_series.value_counts()\n",
    "\n",
    "class_percentage = class_distribution / len(y_series) * 100\n"
   ]
  },
  {
   "cell_type": "code",
   "execution_count": null,
   "id": "f9567e37",
   "metadata": {},
   "outputs": [],
   "source": [
    "#Apply upsampling:"
   ]
  },
  {
   "cell_type": "code",
   "execution_count": 9,
   "id": "d075d85a",
   "metadata": {},
   "outputs": [
    {
     "name": "stdout",
     "output_type": "stream",
     "text": [
      "Empty DataFrame\n",
      "Columns: [TARGET_B]\n",
      "Index: []\n",
      "Empty DataFrame\n",
      "Columns: [TARGET_B]\n",
      "Index: []\n"
     ]
    }
   ],
   "source": [
    "# Separate the Classes:\n",
    "# Assuming 'df' is your DataFrame with a target column 'TARGET_B'\n",
    "majority_class = df[df['TARGET_B'] == 'majority_class']\n",
    "minority_class = df[df['TARGET_B'] == 'minority_class']\n",
    "print(majority_class)\n",
    "print(minority_class)"
   ]
  },
  {
   "cell_type": "code",
   "execution_count": 10,
   "id": "53cc8830",
   "metadata": {},
   "outputs": [
    {
     "data": {
      "text/plain": [
       "0"
      ]
     },
     "execution_count": 10,
     "metadata": {},
     "output_type": "execute_result"
    }
   ],
   "source": [
    "# Upsample the Minority Class:\n",
    "# Calculate the number of samples needed\n",
    "num_samples_needed = len(majority_class) - len(minority_class)\n",
    "num_samples_needed"
   ]
  },
  {
   "cell_type": "code",
   "execution_count": 11,
   "id": "b346a15e",
   "metadata": {},
   "outputs": [
    {
     "ename": "InvalidParameterError",
     "evalue": "The 'n_samples' parameter of resample must be an int in the range [1, inf) or None. Got 0 instead.",
     "output_type": "error",
     "traceback": [
      "\u001b[0;31m---------------------------------------------------------------------------\u001b[0m",
      "\u001b[0;31mInvalidParameterError\u001b[0m                     Traceback (most recent call last)",
      "Cell \u001b[0;32mIn[11], line 2\u001b[0m\n\u001b[1;32m      1\u001b[0m \u001b[38;5;66;03m# Upsample the minority class\u001b[39;00m\n\u001b[0;32m----> 2\u001b[0m upsampled_minority \u001b[38;5;241m=\u001b[39m resample(minority_class, replace\u001b[38;5;241m=\u001b[39m\u001b[38;5;28;01mTrue\u001b[39;00m, n_samples\u001b[38;5;241m=\u001b[39mnum_samples_needed, random_state\u001b[38;5;241m=\u001b[39m\u001b[38;5;241m42\u001b[39m)\n",
      "File \u001b[0;32m~/anaconda3/lib/python3.11/site-packages/sklearn/utils/_param_validation.py:201\u001b[0m, in \u001b[0;36mvalidate_params.<locals>.decorator.<locals>.wrapper\u001b[0;34m(*args, **kwargs)\u001b[0m\n\u001b[1;32m    198\u001b[0m to_ignore \u001b[38;5;241m+\u001b[39m\u001b[38;5;241m=\u001b[39m [\u001b[38;5;124m\"\u001b[39m\u001b[38;5;124mself\u001b[39m\u001b[38;5;124m\"\u001b[39m, \u001b[38;5;124m\"\u001b[39m\u001b[38;5;124mcls\u001b[39m\u001b[38;5;124m\"\u001b[39m]\n\u001b[1;32m    199\u001b[0m params \u001b[38;5;241m=\u001b[39m {k: v \u001b[38;5;28;01mfor\u001b[39;00m k, v \u001b[38;5;129;01min\u001b[39;00m params\u001b[38;5;241m.\u001b[39marguments\u001b[38;5;241m.\u001b[39mitems() \u001b[38;5;28;01mif\u001b[39;00m k \u001b[38;5;129;01mnot\u001b[39;00m \u001b[38;5;129;01min\u001b[39;00m to_ignore}\n\u001b[0;32m--> 201\u001b[0m validate_parameter_constraints(\n\u001b[1;32m    202\u001b[0m     parameter_constraints, params, caller_name\u001b[38;5;241m=\u001b[39mfunc\u001b[38;5;241m.\u001b[39m\u001b[38;5;18m__qualname__\u001b[39m\n\u001b[1;32m    203\u001b[0m )\n\u001b[1;32m    205\u001b[0m \u001b[38;5;28;01mtry\u001b[39;00m:\n\u001b[1;32m    206\u001b[0m     \u001b[38;5;28;01mwith\u001b[39;00m config_context(\n\u001b[1;32m    207\u001b[0m         skip_parameter_validation\u001b[38;5;241m=\u001b[39m(\n\u001b[1;32m    208\u001b[0m             prefer_skip_nested_validation \u001b[38;5;129;01mor\u001b[39;00m global_skip_validation\n\u001b[1;32m    209\u001b[0m         )\n\u001b[1;32m    210\u001b[0m     ):\n",
      "File \u001b[0;32m~/anaconda3/lib/python3.11/site-packages/sklearn/utils/_param_validation.py:95\u001b[0m, in \u001b[0;36mvalidate_parameter_constraints\u001b[0;34m(parameter_constraints, params, caller_name)\u001b[0m\n\u001b[1;32m     89\u001b[0m \u001b[38;5;28;01melse\u001b[39;00m:\n\u001b[1;32m     90\u001b[0m     constraints_str \u001b[38;5;241m=\u001b[39m (\n\u001b[1;32m     91\u001b[0m         \u001b[38;5;124mf\u001b[39m\u001b[38;5;124m\"\u001b[39m\u001b[38;5;132;01m{\u001b[39;00m\u001b[38;5;124m'\u001b[39m\u001b[38;5;124m, \u001b[39m\u001b[38;5;124m'\u001b[39m\u001b[38;5;241m.\u001b[39mjoin([\u001b[38;5;28mstr\u001b[39m(c)\u001b[38;5;250m \u001b[39m\u001b[38;5;28;01mfor\u001b[39;00m\u001b[38;5;250m \u001b[39mc\u001b[38;5;250m \u001b[39m\u001b[38;5;129;01min\u001b[39;00m\u001b[38;5;250m \u001b[39mconstraints[:\u001b[38;5;241m-\u001b[39m\u001b[38;5;241m1\u001b[39m]])\u001b[38;5;132;01m}\u001b[39;00m\u001b[38;5;124m or\u001b[39m\u001b[38;5;124m\"\u001b[39m\n\u001b[1;32m     92\u001b[0m         \u001b[38;5;124mf\u001b[39m\u001b[38;5;124m\"\u001b[39m\u001b[38;5;124m \u001b[39m\u001b[38;5;132;01m{\u001b[39;00mconstraints[\u001b[38;5;241m-\u001b[39m\u001b[38;5;241m1\u001b[39m]\u001b[38;5;132;01m}\u001b[39;00m\u001b[38;5;124m\"\u001b[39m\n\u001b[1;32m     93\u001b[0m     )\n\u001b[0;32m---> 95\u001b[0m \u001b[38;5;28;01mraise\u001b[39;00m InvalidParameterError(\n\u001b[1;32m     96\u001b[0m     \u001b[38;5;124mf\u001b[39m\u001b[38;5;124m\"\u001b[39m\u001b[38;5;124mThe \u001b[39m\u001b[38;5;132;01m{\u001b[39;00mparam_name\u001b[38;5;132;01m!r}\u001b[39;00m\u001b[38;5;124m parameter of \u001b[39m\u001b[38;5;132;01m{\u001b[39;00mcaller_name\u001b[38;5;132;01m}\u001b[39;00m\u001b[38;5;124m must be\u001b[39m\u001b[38;5;124m\"\u001b[39m\n\u001b[1;32m     97\u001b[0m     \u001b[38;5;124mf\u001b[39m\u001b[38;5;124m\"\u001b[39m\u001b[38;5;124m \u001b[39m\u001b[38;5;132;01m{\u001b[39;00mconstraints_str\u001b[38;5;132;01m}\u001b[39;00m\u001b[38;5;124m. Got \u001b[39m\u001b[38;5;132;01m{\u001b[39;00mparam_val\u001b[38;5;132;01m!r}\u001b[39;00m\u001b[38;5;124m instead.\u001b[39m\u001b[38;5;124m\"\u001b[39m\n\u001b[1;32m     98\u001b[0m )\n",
      "\u001b[0;31mInvalidParameterError\u001b[0m: The 'n_samples' parameter of resample must be an int in the range [1, inf) or None. Got 0 instead."
     ]
    }
   ],
   "source": [
    "# Upsample the minority class\n",
    "upsampled_minority = resample(minority_class, replace=True, n_samples=num_samples_needed, random_state=42)"
   ]
  },
  {
   "cell_type": "code",
   "execution_count": 12,
   "id": "835b10fd",
   "metadata": {},
   "outputs": [
    {
     "ename": "NameError",
     "evalue": "name 'upsampled_minority' is not defined",
     "output_type": "error",
     "traceback": [
      "\u001b[0;31m---------------------------------------------------------------------------\u001b[0m",
      "\u001b[0;31mNameError\u001b[0m                                 Traceback (most recent call last)",
      "Cell \u001b[0;32mIn[12], line 1\u001b[0m\n\u001b[0;32m----> 1\u001b[0m balanced_df \u001b[38;5;241m=\u001b[39m pd\u001b[38;5;241m.\u001b[39mconcat([majority_class, upsampled_minority])\n",
      "\u001b[0;31mNameError\u001b[0m: name 'upsampled_minority' is not defined"
     ]
    }
   ],
   "source": [
    "#Concatenate the upsampled minority class with the majority class to create a balanced dataset:\n",
    "balanced_df = pd.concat([majority_class, upsampled_minority])"
   ]
  },
  {
   "cell_type": "code",
   "execution_count": 21,
   "id": "ce6e9c2c",
   "metadata": {},
   "outputs": [
    {
     "data": {
      "text/html": [
       "<div>\n",
       "<style scoped>\n",
       "    .dataframe tbody tr th:only-of-type {\n",
       "        vertical-align: middle;\n",
       "    }\n",
       "\n",
       "    .dataframe tbody tr th {\n",
       "        vertical-align: top;\n",
       "    }\n",
       "\n",
       "    .dataframe thead th {\n",
       "        text-align: right;\n",
       "    }\n",
       "</style>\n",
       "<table border=\"1\" class=\"dataframe\">\n",
       "  <thead>\n",
       "    <tr style=\"text-align: right;\">\n",
       "      <th></th>\n",
       "      <th>TARGET_B</th>\n",
       "    </tr>\n",
       "  </thead>\n",
       "  <tbody>\n",
       "    <tr>\n",
       "      <th>0</th>\n",
       "      <td>0</td>\n",
       "    </tr>\n",
       "    <tr>\n",
       "      <th>1</th>\n",
       "      <td>0</td>\n",
       "    </tr>\n",
       "    <tr>\n",
       "      <th>2</th>\n",
       "      <td>0</td>\n",
       "    </tr>\n",
       "    <tr>\n",
       "      <th>3</th>\n",
       "      <td>0</td>\n",
       "    </tr>\n",
       "    <tr>\n",
       "      <th>4</th>\n",
       "      <td>0</td>\n",
       "    </tr>\n",
       "    <tr>\n",
       "      <th>...</th>\n",
       "      <td>...</td>\n",
       "    </tr>\n",
       "    <tr>\n",
       "      <th>95407</th>\n",
       "      <td>0</td>\n",
       "    </tr>\n",
       "    <tr>\n",
       "      <th>95408</th>\n",
       "      <td>0</td>\n",
       "    </tr>\n",
       "    <tr>\n",
       "      <th>95409</th>\n",
       "      <td>0</td>\n",
       "    </tr>\n",
       "    <tr>\n",
       "      <th>95410</th>\n",
       "      <td>1</td>\n",
       "    </tr>\n",
       "    <tr>\n",
       "      <th>95411</th>\n",
       "      <td>0</td>\n",
       "    </tr>\n",
       "  </tbody>\n",
       "</table>\n",
       "<p>95412 rows × 1 columns</p>\n",
       "</div>"
      ],
      "text/plain": [
       "       TARGET_B\n",
       "0             0\n",
       "1             0\n",
       "2             0\n",
       "3             0\n",
       "4             0\n",
       "...         ...\n",
       "95407         0\n",
       "95408         0\n",
       "95409         0\n",
       "95410         1\n",
       "95411         0\n",
       "\n",
       "[95412 rows x 1 columns]"
      ]
     },
     "execution_count": 21,
     "metadata": {},
     "output_type": "execute_result"
    }
   ],
   "source": [
    "# Save balanced_df\n",
    "balanced_df.to_csv('balanced_df.csv', index=False)\n",
    "# Use balanced dataset for training machine learning model:\n",
    "#balanced_df"
   ]
  },
  {
   "cell_type": "code",
   "execution_count": null,
   "id": "04958d02",
   "metadata": {},
   "outputs": [],
   "source": [
    "# Apply the Random Forest algorithm to predict the TARGET_B:"
   ]
  },
  {
   "cell_type": "code",
   "execution_count": null,
   "id": "2d07ecc7",
   "metadata": {},
   "outputs": [],
   "source": [
    "# Import Libraries\n",
    "from sklearn.ensemble import RandomForestRegressor  # For regression"
   ]
  },
  {
   "cell_type": "code",
   "execution_count": null,
   "id": "1b8d083c",
   "metadata": {},
   "outputs": [],
   "source": [
    "# Load and Preprocess Data:\n",
    "\n",
    "# Load your dataset into a DataFrame (replace 'your_data.csv' with your dataset)\n",
    "targets = pd.read_csv('../../Afternoon/lab-random-forests/files_for_lab/target.csv')\n",
    "\n",
    "# Define features (X) and the target (y)\n",
    "X = df.drop('TARGET_B', axis=1)  # Features (all columns except the target column)\n",
    "y = df['TARGET_B']  # Target column you want to predict"
   ]
  },
  {
   "cell_type": "code",
   "execution_count": null,
   "id": "012830ab",
   "metadata": {},
   "outputs": [],
   "source": [
    "# Split Data into Training and Testing Sets\n",
    "from sklearn.model_selection import train_test_split\n",
    "\n",
    "X_train, X_test, y_train, y_test = train_test_split(X, y, test_size=0.2, random_state=42)\n"
   ]
  },
  {
   "cell_type": "code",
   "execution_count": null,
   "id": "14043ed7",
   "metadata": {},
   "outputs": [],
   "source": [
    "# Create and Train the Random Forest Model\n",
    "# Create a Random Forest model\n",
    "\n",
    "model = RandomForestRegressor()  # For regression\n",
    "\n",
    "# Train the model on the training data\n",
    "model.fit(X_train, y_train)\n"
   ]
  },
  {
   "cell_type": "code",
   "execution_count": null,
   "id": "a0999ece",
   "metadata": {},
   "outputs": [],
   "source": [
    "# Make Predictions\n",
    "y_pred = model.predict(X_test)  # Make predictions on the test data\n",
    "y_pred"
   ]
  },
  {
   "cell_type": "code",
   "execution_count": null,
   "id": "b1310733",
   "metadata": {},
   "outputs": [],
   "source": [
    "# Evaluate Model Performance # Classification\n",
    "#from sklearn.metrics import accuracy_score, classification_report\n",
    "\n",
    "#accuracy = accuracy_score(y_test, y_pred)\n",
    "#report = classification_report(y_test, y_pred)\n",
    "\n",
    "#print(f\"Accuracy: {accuracy}\")\n",
    "#print(\"Classification Report:\\n\", report)\n"
   ]
  },
  {
   "cell_type": "markdown",
   "id": "b0940d12",
   "metadata": {},
   "source": [
    "For **regression** tasks, metrics like Mean Absolute Error (MAE) \n",
    "and Mean Squared Error (MSE) are commonly used."
   ]
  },
  {
   "cell_type": "code",
   "execution_count": null,
   "id": "96de232c",
   "metadata": {},
   "outputs": [],
   "source": [
    "# Define y_true for a regression problem:\n",
    "# Assuming 'TARGET_B' is the column you want to predict\n",
    "\n",
    "y_true = df['TARGET_B']"
   ]
  },
  {
   "cell_type": "markdown",
   "id": "372767d1",
   "metadata": {},
   "source": [
    "After you've defined **y_true**, you can use it to evaluate your model's performance by comparing its predictions to these true values. \n",
    "\n",
    "In practice, **y_true** is the **ground truth** data that you should have during the model evaluation phase to assess how well your model is performing.\n",
    "\n",
    "It allows you to determine the model's accuracy in predicting the target variable."
   ]
  },
  {
   "cell_type": "code",
   "execution_count": 22,
   "id": "27d3551d",
   "metadata": {},
   "outputs": [
    {
     "ename": "NameError",
     "evalue": "name 'y_true' is not defined",
     "output_type": "error",
     "traceback": [
      "\u001b[0;31m---------------------------------------------------------------------------\u001b[0m",
      "\u001b[0;31mNameError\u001b[0m                                 Traceback (most recent call last)",
      "Cell \u001b[0;32mIn[22], line 5\u001b[0m\n\u001b[1;32m      2\u001b[0m \u001b[38;5;28;01mfrom\u001b[39;00m \u001b[38;5;21;01msklearn\u001b[39;00m\u001b[38;5;21;01m.\u001b[39;00m\u001b[38;5;21;01mmetrics\u001b[39;00m \u001b[38;5;28;01mimport\u001b[39;00m mean_absolute_error\n\u001b[1;32m      3\u001b[0m \u001b[38;5;28;01mfrom\u001b[39;00m \u001b[38;5;21;01msklearn\u001b[39;00m\u001b[38;5;21;01m.\u001b[39;00m\u001b[38;5;21;01mmetrics\u001b[39;00m \u001b[38;5;28;01mimport\u001b[39;00m mean_squared_error\n\u001b[0;32m----> 5\u001b[0m mean_absolute_error \u001b[38;5;241m=\u001b[39m mean_absolute_error(y_true, y_pred)\n\u001b[1;32m      6\u001b[0m mean_squared_error \u001b[38;5;241m=\u001b[39m mean_squared_error(y_true, y_pred)\n\u001b[1;32m      8\u001b[0m \u001b[38;5;28mprint\u001b[39m(\u001b[38;5;124mf\u001b[39m\u001b[38;5;124m\"\u001b[39m\u001b[38;5;124mMean Absolute Error: \u001b[39m\u001b[38;5;132;01m{\u001b[39;00mmean_absolute_error\u001b[38;5;132;01m}\u001b[39;00m\u001b[38;5;124m\"\u001b[39m)\n",
      "\u001b[0;31mNameError\u001b[0m: name 'y_true' is not defined"
     ]
    }
   ],
   "source": [
    "# Evaluate Model Performance # Regression\n",
    "from sklearn.metrics import mean_absolute_error\n",
    "from sklearn.metrics import mean_squared_error\n",
    "\n",
    "mean_absolute_error = mean_absolute_error(y_true, y_pred)\n",
    "mean_squared_error = mean_squared_error(y_true, y_pred)\n",
    "\n",
    "print(f\"Mean Absolute Error: {mean_absolute_error}\")"
   ]
  },
  {
   "cell_type": "code",
   "execution_count": null,
   "id": "7914c691",
   "metadata": {},
   "outputs": [],
   "source": [
    "# Discuss the model predictions and it's impact in the bussiness scenario:\n",
    "# Is the cost of a false positive equals to the cost of the false negative? Confusion Matrix?\n",
    "# How much the money the company will not earn because of missclassifications made by the model?"
   ]
  },
  {
   "cell_type": "code",
   "execution_count": null,
   "id": "90513f4d",
   "metadata": {},
   "outputs": [],
   "source": [
    "# Choose relevant error metric:"
   ]
  },
  {
   "cell_type": "code",
   "execution_count": null,
   "id": "2f25210b",
   "metadata": {},
   "outputs": [],
   "source": [
    "# Train the model to maximize the error metric:"
   ]
  },
  {
   "cell_type": "markdown",
   "id": "59efda8c",
   "metadata": {},
   "source": [
    "__________________________________"
   ]
  },
  {
   "cell_type": "markdown",
   "id": "f2423b5b",
   "metadata": {},
   "source": [
    "## Questions\n",
    "\n",
    "* What kind of datacleaning needs to be done? Did I do enough?\n",
    "* How to Separate the Classes for upsampeling:\n",
    "* What kind of upsampling needs to be done?\n",
    "* How kan I apply upsampling correctly?"
   ]
  },
  {
   "cell_type": "code",
   "execution_count": null,
   "id": "f88c8764",
   "metadata": {},
   "outputs": [],
   "source": []
  }
 ],
 "metadata": {
  "kernelspec": {
   "display_name": "Python 3 (ipykernel)",
   "language": "python",
   "name": "python3"
  },
  "language_info": {
   "codemirror_mode": {
    "name": "ipython",
    "version": 3
   },
   "file_extension": ".py",
   "mimetype": "text/x-python",
   "name": "python",
   "nbconvert_exporter": "python",
   "pygments_lexer": "ipython3",
   "version": "3.11.3"
  }
 },
 "nbformat": 4,
 "nbformat_minor": 5
}
